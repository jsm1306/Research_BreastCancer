{
  "nbformat": 4,
  "nbformat_minor": 0,
  "metadata": {
    "colab": {
      "provenance": []
    },
    "kernelspec": {
      "name": "python3",
      "display_name": "Python 3"
    },
    "language_info": {
      "name": "python"
    }
  },
  "cells": [
    {
      "cell_type": "markdown",
      "source": [
        "**Performing n-way k shot on mnist**\n"
      ],
      "metadata": {
        "id": "5dWceUJSXKCy"
      }
    },
    {
      "cell_type": "code",
      "execution_count": null,
      "metadata": {
        "id": "2o4GsmuNBNd8"
      },
      "outputs": [],
      "source": [
        "import numpy as np\n",
        "import tensorflow as tf\n",
        "from tensorflow.keras import layers, models\n",
        "from tensorflow.keras.datasets import mnist\n",
        "import matplotlib.pyplot as plt\n"
      ]
    },
    {
      "cell_type": "code",
      "source": [
        "(train_images, train_labels), (test_images, test_labels) = mnist.load_data()\n"
      ],
      "metadata": {
        "id": "UV7vRHPVBWTp"
      },
      "execution_count": null,
      "outputs": []
    },
    {
      "cell_type": "code",
      "source": [
        "train_images, test_images = train_images / 255.0, test_images / 255.0"
      ],
      "metadata": {
        "id": "peIbJzRzCUCw"
      },
      "execution_count": null,
      "outputs": []
    },
    {
      "cell_type": "code",
      "source": [
        "train_images = np.expand_dims(train_images, axis=-1)  # Adds the channel dimension\n",
        "test_images = np.expand_dims(test_images, axis=-1)\n"
      ],
      "metadata": {
        "id": "MSQ2_cPGDX8B"
      },
      "execution_count": null,
      "outputs": []
    },
    {
      "cell_type": "code",
      "source": [
        "print(\"Train images shape:\", train_images.shape)\n",
        "print(\"Train labels shape:\", train_labels.shape)\n",
        "print(\"Test images shape:\", test_images.shape)\n",
        "print(\"Test labels shape:\", test_labels.shape)"
      ],
      "metadata": {
        "colab": {
          "base_uri": "https://localhost:8080/"
        },
        "id": "J3kfCjxGCbu-",
        "outputId": "17dd208d-dfd5-4e35-c6d4-c6d864e85657"
      },
      "execution_count": null,
      "outputs": [
        {
          "output_type": "stream",
          "name": "stdout",
          "text": [
            "Train images shape: (60000, 28, 28, 1)\n",
            "Train labels shape: (60000,)\n",
            "Test images shape: (10000, 28, 28, 1)\n",
            "Test labels shape: (10000,)\n"
          ]
        }
      ]
    },
    {
      "cell_type": "code",
      "source": [
        "\n",
        "# Define the Matching Network model\n",
        "def build_model(input_shape=(28, 28, 1), n_classes=10):\n",
        "    inputs = layers.Input(shape=input_shape)\n",
        "    x = layers.Conv2D(64, (3, 3), activation='relu')(inputs)\n",
        "    x = layers.MaxPooling2D((2, 2))(x)\n",
        "    x = layers.Conv2D(128, (3, 3), activation='relu')(x)\n",
        "    x = layers.MaxPooling2D((2, 2))(x)\n",
        "    x = layers.Flatten()(x)\n",
        "    x = layers.Dense(128, activation='relu')(x)\n",
        "\n",
        "    # Output layer with softmax activation for classification\n",
        "    outputs = layers.Dense(n_classes, activation='softmax')(x)\n",
        "\n",
        "    model = models.Model(inputs=inputs, outputs=outputs)\n",
        "    return model\n",
        "\n",
        "# Build the model\n",
        "model = build_model()\n",
        "\n",
        "# Compile the model\n",
        "model.compile(optimizer='adam', loss='sparse_categorical_crossentropy', metrics=['accuracy'])\n"
      ],
      "metadata": {
        "id": "KFUmOSDHBa8r"
      },
      "execution_count": null,
      "outputs": []
    },
    {
      "cell_type": "code",
      "source": [
        "model.fit(train_images, train_labels, epochs=5, batch_size=64, validation_data=(test_images, test_labels))"
      ],
      "metadata": {
        "colab": {
          "base_uri": "https://localhost:8080/"
        },
        "id": "tYOE-bv0Bfy5",
        "outputId": "a5b3b305-0cac-45b5-edc6-36d037738b64"
      },
      "execution_count": null,
      "outputs": [
        {
          "metadata": {
            "tags": null
          },
          "name": "stdout",
          "output_type": "stream",
          "text": [
            "Epoch 1/5\n",
            "\u001b[1m938/938\u001b[0m \u001b[32m━━━━━━━━━━━━━━━━━━━━\u001b[0m\u001b[37m\u001b[0m \u001b[1m138s\u001b[0m 145ms/step - accuracy: 0.9056 - loss: 0.3069 - val_accuracy: 0.9861 - val_loss: 0.0397\n",
            "Epoch 2/5\n",
            "\u001b[1m938/938\u001b[0m \u001b[32m━━━━━━━━━━━━━━━━━━━━\u001b[0m\u001b[37m\u001b[0m \u001b[1m134s\u001b[0m 137ms/step - accuracy: 0.9868 - loss: 0.0420 - val_accuracy: 0.9877 - val_loss: 0.0354\n",
            "Epoch 3/5\n",
            "\u001b[1m938/938\u001b[0m \u001b[32m━━━━━━━━━━━━━━━━━━━━\u001b[0m\u001b[37m\u001b[0m \u001b[1m141s\u001b[0m 135ms/step - accuracy: 0.9915 - loss: 0.0265 - val_accuracy: 0.9877 - val_loss: 0.0357\n",
            "Epoch 4/5\n",
            "\u001b[1m938/938\u001b[0m \u001b[32m━━━━━━━━━━━━━━━━━━━━\u001b[0m\u001b[37m\u001b[0m \u001b[1m145s\u001b[0m 139ms/step - accuracy: 0.9934 - loss: 0.0198 - val_accuracy: 0.9904 - val_loss: 0.0323\n",
            "Epoch 5/5\n",
            "\u001b[1m938/938\u001b[0m \u001b[32m━━━━━━━━━━━━━━━━━━━━\u001b[0m\u001b[37m\u001b[0m \u001b[1m138s\u001b[0m 135ms/step - accuracy: 0.9949 - loss: 0.0146 - val_accuracy: 0.9888 - val_loss: 0.0374\n"
          ]
        },
        {
          "output_type": "execute_result",
          "data": {
            "text/plain": [
              "<keras.src.callbacks.history.History at 0x7cec8bb8d3d0>"
            ]
          },
          "metadata": {},
          "execution_count": 16
        }
      ]
    },
    {
      "cell_type": "code",
      "source": [
        "test_loss, test_acc = model.evaluate(test_images, test_labels, verbose=2)\n",
        "print(f\"Test accuracy: {test_acc:.4f}\")"
      ],
      "metadata": {
        "colab": {
          "base_uri": "https://localhost:8080/"
        },
        "id": "9GGVaU-JBiNd",
        "outputId": "68826afd-540d-4c83-bd4e-30e5135edec1"
      },
      "execution_count": null,
      "outputs": [
        {
          "output_type": "stream",
          "name": "stdout",
          "text": [
            "313/313 - 6s - 19ms/step - accuracy: 0.9888 - loss: 0.0374\n",
            "Test accuracy: 0.9888\n"
          ]
        }
      ]
    },
    {
      "cell_type": "code",
      "source": [
        "def display_images(images, labels, n=5):\n",
        "    plt.figure(figsize=(10, 2))\n",
        "    for i in range(n):\n",
        "        plt.subplot(1, n, i+1)\n",
        "        plt.imshow(images[i].reshape(28, 28), cmap='gray')\n",
        "        plt.title(f\"Label: {labels[i]}\")\n",
        "        plt.axis('off')\n",
        "    plt.show()\n",
        "\n",
        "display_images(test_images, test_labels)"
      ],
      "metadata": {
        "colab": {
          "base_uri": "https://localhost:8080/",
          "height": 170
        },
        "id": "LOhDzt_DBk6b",
        "outputId": "e421468c-94d1-4368-c975-f70aaccee586"
      },
      "execution_count": null,
      "outputs": [
        {
          "output_type": "display_data",
          "data": {
            "text/plain": [
              "<Figure size 1000x200 with 5 Axes>"
            ],
            "image/png": "[encoded data removed]"
          },
          "metadata": {}
        }
      ]
    },
    {
      "cell_type": "code",
      "source": [
        "def few_shot_evaluation(model, support_set, support_labels, query_set, query_labels, n_shots=5):\n",
        "    model.fit(support_set, support_labels, epochs=5, batch_size=1, verbose=0)\n",
        "    query_loss, query_acc = model.evaluate(query_set, query_labels, verbose=0)\n",
        "    return query_acc"
      ],
      "metadata": {
        "id": "FIUYbteFBnig"
      },
      "execution_count": null,
      "outputs": []
    },
    {
      "cell_type": "code",
      "source": [
        "support_images = test_images[:5]  # Simulate support set with 5 images\n",
        "support_labels = test_labels[:5]\n",
        "query_images = test_images[5:10]  # Simulate query set with next 5 images\n",
        "query_labels = test_labels[5:10]\n"
      ],
      "metadata": {
        "id": "wbgfp7d_BqUO"
      },
      "execution_count": null,
      "outputs": []
    },
    {
      "cell_type": "markdown",
      "source": [
        "The query set is used to test how well the model can generalize to new, unseen data after learning from the small support set."
      ],
      "metadata": {
        "id": "JLx2d_rQKaKV"
      }
    },
    {
      "cell_type": "code",
      "source": [
        "accuracy = few_shot_evaluation(model, support_images, support_labels, query_images, query_labels)\n",
        "print(f\"Few-shot learning accuracy: {accuracy:.4f}\")"
      ],
      "metadata": {
        "colab": {
          "base_uri": "https://localhost:8080/"
        },
        "id": "-_qnRdTKJZ1o",
        "outputId": "52207181-0422-4e8d-b274-fc17445ff896"
      },
      "execution_count": null,
      "outputs": [
        {
          "output_type": "stream",
          "name": "stdout",
          "text": [
            "Few-shot learning accuracy: 1.0000\n"
          ]
        }
      ]
    },
    {
      "cell_type": "code",
      "source": [
        "print(support_labels)"
      ],
      "metadata": {
        "colab": {
          "base_uri": "https://localhost:8080/"
        },
        "id": "-rBXpIAhJRk8",
        "outputId": "b93e519b-131d-41f3-f94a-d16ebb77506c"
      },
      "execution_count": null,
      "outputs": [
        {
          "output_type": "stream",
          "name": "stdout",
          "text": [
            "[7 2 1 0 4]\n"
          ]
        }
      ]
    },
    {
      "cell_type": "code",
      "source": [
        "from sklearn.metrics import classification_report, accuracy_score\n",
        "import seaborn as sns\n",
        "\n",
        "def few_shot_evaluation_extended(model, support_set, support_labels, query_set, query_labels, n_shots=5):\n",
        "\n",
        "    print(\"Support Set:\")\n",
        "    display_images(support_set.squeeze(), support_labels, n=n_shots)\n",
        "    #squeeze() removes the unnecessary dimension. suppose (10,28,28,1) => (10,28,28)\n",
        "\n",
        "    model.fit(support_set, support_labels, epochs=5, batch_size=1, verbose=0)\n",
        "    query_preds = np.argmax(model.predict(query_set), axis=-1)\n",
        "\n",
        "    # Display query images with predictions\n",
        "    print(\"\\nQuery Set Predictions:\")\n",
        "    plt.figure(figsize=(10, 2))\n",
        "    for i in range(len(query_set)):\n",
        "        plt.subplot(1, len(query_set), i + 1)\n",
        "        plt.imshow(query_set[i].squeeze(), cmap='gray')\n",
        "        plt.title(f\"True: {query_labels[i]}\\nPred: {query_preds[i]}\")\n",
        "        plt.axis('off')\n",
        "    plt.show()\n",
        "\n",
        "    # Metrics\n",
        "    accuracy = accuracy_score(query_labels, query_preds)\n",
        "    print(f\"\\nAccuracy: {accuracy:.4f}\")\n",
        "    print(\"\\nClassification Report:\")\n",
        "    print(classification_report(query_labels, query_preds))\n",
        "\n",
        "    # Confusion matrix\n",
        "    cm = tf.math.confusion_matrix(query_labels, query_preds).numpy()\n",
        "    plt.figure(figsize=(6, 4))\n",
        "    sns.heatmap(cm, annot=True, fmt='d', cmap='Blues', xticklabels=np.unique(query_labels),\n",
        "                yticklabels=np.unique(query_labels))\n",
        "    plt.title(\"Confusion Matrix\")\n",
        "    plt.xlabel(\"Predicted\")\n",
        "    plt.ylabel(\"True\")\n",
        "    plt.show()\n",
        "\n",
        "    return accuracy\n",
        "\n",
        "# Extended test few-shot evaluation\n",
        "support_images = test_images[:10]  # Support set with 10 images (2 samples per class)\n",
        "support_labels = test_labels[:10]\n",
        "query_images = test_images[10:20]  # Query set with 10 images\n",
        "query_labels = test_labels[10:20]\n",
        "\n",
        "accuracy = few_shot_evaluation_extended(model, support_images, support_labels, query_images, query_labels)\n"
      ],
      "metadata": {
        "colab": {
          "base_uri": "https://localhost:8080/",
          "height": 1000
        },
        "id": "piYT4NGCG4Oc",
        "outputId": "42ed9f46-48bd-46ec-a25f-2ebd97b6d064"
      },
      "execution_count": null,
      "outputs": [
        {
          "output_type": "stream",
          "name": "stdout",
          "text": [
            "Support Set:\n"
          ]
        },
        {
          "output_type": "display_data",
          "data": {
            "text/plain": [
              "<Figure size 1000x200 with 5 Axes>"
            ],
            "image/png": "[encoded data removed]"
          },
          "metadata": {}
        },
        {
          "output_type": "stream",
          "name": "stdout",
          "text": [
            "\u001b[1m1/1\u001b[0m \u001b[32m━━━━━━━━━━━━━━━━━━━━\u001b[0m\u001b[37m\u001b[0m \u001b[1m0s\u001b[0m 128ms/step\n",
            "\n",
            "Query Set Predictions:\n"
          ]
        },
        {
          "output_type": "display_data",
          "data": {
            "text/plain": [
              "<Figure size 1000x200 with 10 Axes>"
            ],
            "image/png": "[encoded data removed]"
          },
          "metadata": {}
        },
        {
          "output_type": "stream",
          "name": "stdout",
          "text": [
            "\n",
            "Accuracy: 0.8000\n",
            "\n",
            "Classification Report:\n",
            "              precision    recall  f1-score   support\n",
            "\n",
            "           0       1.00      0.50      0.67         2\n",
            "           1       0.50      1.00      0.67         1\n",
            "           3       1.00      1.00      1.00         1\n",
            "           4       1.00      1.00      1.00         1\n",
            "           5       1.00      1.00      1.00         1\n",
            "           6       0.00      0.00      0.00         1\n",
            "           7       1.00      1.00      1.00         1\n",
            "           9       0.67      1.00      0.80         2\n",
            "\n",
            "    accuracy                           0.80        10\n",
            "   macro avg       0.77      0.81      0.77        10\n",
            "weighted avg       0.78      0.80      0.76        10\n",
            "\n"
          ]
        },
        {
          "output_type": "stream",
          "name": "stderr",
          "text": [
            "/usr/local/lib/python3.11/dist-packages/sklearn/metrics/_classification.py:1565: UndefinedMetricWarning: Precision is ill-defined and being set to 0.0 in labels with no predicted samples. Use `zero_division` parameter to control this behavior.\n",
            "  _warn_prf(average, modifier, f\"{metric.capitalize()} is\", len(result))\n",
            "/usr/local/lib/python3.11/dist-packages/sklearn/metrics/_classification.py:1565: UndefinedMetricWarning: Precision is ill-defined and being set to 0.0 in labels with no predicted samples. Use `zero_division` parameter to control this behavior.\n",
            "  _warn_prf(average, modifier, f\"{metric.capitalize()} is\", len(result))\n",
            "/usr/local/lib/python3.11/dist-packages/sklearn/metrics/_classification.py:1565: UndefinedMetricWarning: Precision is ill-defined and being set to 0.0 in labels with no predicted samples. Use `zero_division` parameter to control this behavior.\n",
            "  _warn_prf(average, modifier, f\"{metric.capitalize()} is\", len(result))\n"
          ]
        },
        {
          "output_type": "display_data",
          "data": {
            "text/plain": [
              "<Figure size 600x400 with 2 Axes>"
            ],
            "image/png": "[encoded data removed]"
          },
          "metadata": {}
        }
      ]
    },
    {
      "cell_type": "markdown",
      "source": [
        "**Performing Siamese Networks on Breakhis Dataset**"
      ],
      "metadata": {
        "id": "Zm4fAavgh2HO"
      }
    },
    {
      "cell_type": "code",
      "source": [
        "import tensorflow as tf\n",
        "from tensorflow.keras import layers, Model, optimizers\n",
        "from tensorflow.keras.preprocessing.image import ImageDataGenerator\n",
        "import numpy as np\n",
        "import random"
      ],
      "metadata": {
        "id": "KxWQtygfhcsi"
      },
      "execution_count": null,
      "outputs": []
    },
    {
      "cell_type": "code",
      "source": [
        "train_path = \"/content/drive/MyDrive/Research/BreakHis/Train\"\n",
        "test_path = \"/content/drive/MyDrive/Research/BreakHis/Test\"\n",
        "\n",
        "BATCH_SIZE = 32\n",
        "IMAGE_SIZE = (224, 224)\n",
        "EPOCHS = 30\n",
        "PAIR_SAMPLE_SIZE = 500"
      ],
      "metadata": {
        "id": "nzUwC4J8hRUU"
      },
      "execution_count": null,
      "outputs": []
    },
    {
      "cell_type": "code",
      "source": [
        "\n",
        "datagen = ImageDataGenerator(rescale=1.0 / 255)\n",
        "\n",
        "train_gen = datagen.flow_from_directory(\n",
        "    train_path,\n",
        "    target_size=IMAGE_SIZE,\n",
        "    batch_size=BATCH_SIZE,\n",
        "    class_mode=\"binary\",\n",
        "    subset=\"training\",\n",
        "    shuffle=True\n",
        ")\n",
        "\n",
        "test_gen = datagen.flow_from_directory(\n",
        "    test_path,\n",
        "    target_size=IMAGE_SIZE,\n",
        "    batch_size=BATCH_SIZE,\n",
        "    class_mode=\"binary\"\n",
        ")\n",
        "\n",
        "\n",
        "\n",
        "\n",
        "# Helper function to create pairs\n",
        "\n"
      ],
      "metadata": {
        "colab": {
          "base_uri": "https://localhost:8080/"
        },
        "id": "H6mG55W0hIOb",
        "outputId": "34513f28-bee3-4ef3-c42e-61bffe660b42"
      },
      "execution_count": null,
      "outputs": [
        {
          "output_type": "stream",
          "name": "stdout",
          "text": [
            "Found 6327 images belonging to 2 classes.\n",
            "Found 1582 images belonging to 2 classes.\n"
          ]
        }
      ]
    },
    {
      "cell_type": "code",
      "source": [
        "from tensorflow.keras import models"
      ],
      "metadata": {
        "id": "Td3gh6qiGdkg"
      },
      "execution_count": null,
      "outputs": []
    },
    {
      "cell_type": "code",
      "source": [
        "def create_base_cnn(input_shape):\n",
        "      model = models.Sequential([\n",
        "      # ConvBlock 1\n",
        "      layers.Conv2D(16, (3, 3), activation='relu', padding='same', input_shape=input_shape),\n",
        "      layers.Conv2D(16, (3, 3), activation='relu', padding='same'),\n",
        "      layers.MaxPool2D((2, 2)),\n",
        "\n",
        "      # ConvBlock 2\n",
        "      layers.Conv2D(32, (3, 3), activation='relu', padding='same'),\n",
        "      layers.Conv2D(32, (3, 3), activation='relu', padding='same'),\n",
        "      layers.MaxPool2D((2, 2)),\n",
        "\n",
        "      # ConvBlock 3\n",
        "      layers.Conv2D(64, (3, 3), activation='relu', padding='same'),\n",
        "      layers.Conv2D(64, (3, 3), activation='relu', padding='same'),\n",
        "      layers.Conv2D(64, (3, 3), activation='relu', padding='same'),\n",
        "      layers.MaxPool2D((2, 2)),\n",
        "\n",
        "      # ConvBlock 4\n",
        "      layers.Conv2D(128, (3, 3), activation='relu', padding='same'),\n",
        "      layers.Conv2D(128, (3, 3), activation='relu', padding='same'),\n",
        "      layers.Conv2D(128, (3, 3), activation='relu', padding='same'),\n",
        "      layers.MaxPool2D((2, 2)),\n",
        "\n",
        "      # ConvBlock 5\n",
        "      layers.Conv2D(256, (3, 3), activation='relu', padding='same'),\n",
        "      layers.Conv2D(256, (3, 3), activation='relu', padding='same'),\n",
        "      layers.Conv2D(256, (3, 3), activation='relu', padding='same'),\n",
        "      layers.MaxPool2D((2, 2)),\n",
        "\n",
        "      layers.Flatten(),\n",
        "      layers.Dense(128),\n",
        "        layers.LeakyReLU(alpha=0.1),\n",
        "        layers.Dense(64),\n",
        "        layers.LeakyReLU(alpha=0.1),\n",
        "        layers.BatchNormalization(),\n",
        "        layers.Dropout(0.5),\n",
        "    ])\n",
        "      return model\n"
      ],
      "metadata": {
        "id": "HoTmJLinXYQ3"
      },
      "execution_count": null,
      "outputs": []
    },
    {
      "cell_type": "markdown",
      "source": [
        "Siamese networks are used to learn a similarity function between inputs. They are often used for tasks like image verification, where you want to determine if two images are of the same object or person."
      ],
      "metadata": {
        "id": "qWDHrCEpQ8bf"
      }
    },
    {
      "cell_type": "code",
      "source": [
        "def siamese_network(input_shape):\n",
        "    base_cnn = create_base_cnn(input_shape)\n",
        "#These lines define two input tensors, input_a and input_b, representing the two images that will be compared by the Siamese network.\n",
        "\n",
        "    input_a = layers.Input(shape=input_shape)\n",
        "    input_b = layers.Input(shape=input_shape)\n",
        "\n",
        "    processed_a = base_cnn(input_a)\n",
        "    processed_b = base_cnn(input_b)\n",
        "\n",
        "    # L1 Distance for similarity scoring, calculates the distance between the feature representations of the two input images.\n",
        "    distance = layers.Lambda(lambda tensors: tf.abs(tensors[0] - tensors[1]))(\n",
        "        [processed_a, processed_b]\n",
        "    )\n",
        "    outputs = layers.Dense(1, activation=\"sigmoid\")(distance)\n",
        "\n",
        "    return Model(inputs=[input_a, input_b], outputs=outputs)"
      ],
      "metadata": {
        "id": "HDz4iJiChikO"
      },
      "execution_count": null,
      "outputs": []
    },
    {
      "cell_type": "code",
      "source": [
        "model = siamese_network((*IMAGE_SIZE, 3))\n",
        "model.compile(optimizer=optimizers.Adam(0.001), loss=\"binary_crossentropy\", metrics=[\"accuracy\"])\n",
        "#The asterisk (*) in *IMAGE_SIZE is used to unpack the tuple IMAGE_SIZE. This essentially transforms (224, 224) into two separate arguments, 224 and 224."
      ],
      "metadata": {
        "colab": {
          "base_uri": "https://localhost:8080/"
        },
        "id": "N7ewsgTIhmw5",
        "outputId": "a1239083-26f2-4aa9-a3f5-00fd68c26eb7"
      },
      "execution_count": null,
      "outputs": [
        {
          "output_type": "stream",
          "name": "stderr",
          "text": [
            "/usr/local/lib/python3.11/dist-packages/keras/src/layers/convolutional/base_conv.py:107: UserWarning: Do not pass an `input_shape`/`input_dim` argument to a layer. When using Sequential models, prefer using an `Input(shape)` object as the first layer in the model instead.\n",
            "  super().__init__(activity_regularizer=activity_regularizer, **kwargs)\n",
            "/usr/local/lib/python3.11/dist-packages/keras/src/layers/activations/leaky_relu.py:41: UserWarning: Argument `alpha` is deprecated. Use `negative_slope` instead.\n",
            "  warnings.warn(\n"
          ]
        }
      ]
    },
    {
      "cell_type": "code",
      "source": [
        "#designed to create pairs of images for training a Siamese network.\n",
        "def create_limited_pairs(generator, sample_size):\n",
        "    pairs = []\n",
        "    labels = []\n",
        "    images, labels_batch = [], []\n",
        "\n",
        "    # Collect all images and labels\n",
        "    for _ in range(len(generator)):\n",
        "        batch_images, batch_labels = next(generator)\n",
        "        images.extend(batch_images)\n",
        "        labels_batch.extend(batch_labels)\n",
        "        if len(images) >= sample_size:\n",
        "            break\n",
        "\n",
        "    images = np.array(images[:sample_size])\n",
        "    labels_batch = np.array(labels_batch[:sample_size])\n",
        "\n",
        "    # Create pairs from limited samples\n",
        "    for _ in range(sample_size // 2):\n",
        "        i, j = random.sample(range(sample_size), 2)\n",
        "        pairs.append([images[i], images[j]])\n",
        "        labels.append(1 if labels_batch[i] == labels_batch[j] else 0)\n",
        "\n",
        "    pairs = np.array(pairs)\n",
        "    labels = np.array(labels)\n",
        "    return pairs, labels"
      ],
      "metadata": {
        "id": "0vk8DHyHhqlq"
      },
      "execution_count": null,
      "outputs": []
    },
    {
      "cell_type": "code",
      "source": [
        "train_pairs, train_labels = create_limited_pairs(train_gen, PAIR_SAMPLE_SIZE)\n",
        "\n",
        "\n",
        "train_pairs_a, train_pairs_b = train_pairs[:, 0], train_pairs[:, 1]\n"
      ],
      "metadata": {
        "id": "K_79IQn7htTS"
      },
      "execution_count": null,
      "outputs": []
    },
    {
      "cell_type": "code",
      "source": [
        "history = model.fit(\n",
        "    [train_pairs_a, train_pairs_b],\n",
        "    train_labels,\n",
        "    batch_size=BATCH_SIZE,\n",
        "    epochs=EPOCHS\n",
        ")\n"
      ],
      "metadata": {
        "id": "OdRv6jj5w0vy",
        "colab": {
          "base_uri": "https://localhost:8080/"
        },
        "outputId": "89dedf79-0a8c-460e-9501-f3d97c64314c"
      },
      "execution_count": null,
      "outputs": [
        {
          "output_type": "stream",
          "name": "stdout",
          "text": [
            "Epoch 1/30\n",
            "\u001b[1m8/8\u001b[0m \u001b[32m━━━━━━━━━━━━━━━━━━━━\u001b[0m\u001b[37m\u001b[0m \u001b[1m30s\u001b[0m 2s/step - accuracy: 0.5326 - loss: 0.7048\n",
            "Epoch 2/30\n",
            "\u001b[1m8/8\u001b[0m \u001b[32m━━━━━━━━━━━━━━━━━━━━\u001b[0m\u001b[37m\u001b[0m \u001b[1m1s\u001b[0m 160ms/step - accuracy: 0.5192 - loss: 0.7059\n",
            "Epoch 3/30\n",
            "\u001b[1m8/8\u001b[0m \u001b[32m━━━━━━━━━━━━━━━━━━━━\u001b[0m\u001b[37m\u001b[0m \u001b[1m1s\u001b[0m 161ms/step - accuracy: 0.5076 - loss: 0.6968\n",
            "Epoch 4/30\n",
            "\u001b[1m8/8\u001b[0m \u001b[32m━━━━━━━━━━━━━━━━━━━━\u001b[0m\u001b[37m\u001b[0m \u001b[1m3s\u001b[0m 162ms/step - accuracy: 0.5605 - loss: 0.6938\n",
            "Epoch 5/30\n",
            "\u001b[1m8/8\u001b[0m \u001b[32m━━━━━━━━━━━━━━━━━━━━\u001b[0m\u001b[37m\u001b[0m \u001b[1m2s\u001b[0m 159ms/step - accuracy: 0.5807 - loss: 0.6944\n",
            "Epoch 6/30\n",
            "\u001b[1m8/8\u001b[0m \u001b[32m━━━━━━━━━━━━━━━━━━━━\u001b[0m\u001b[37m\u001b[0m \u001b[1m3s\u001b[0m 160ms/step - accuracy: 0.5523 - loss: 0.6903\n",
            "Epoch 7/30\n",
            "\u001b[1m8/8\u001b[0m \u001b[32m━━━━━━━━━━━━━━━━━━━━\u001b[0m\u001b[37m\u001b[0m \u001b[1m3s\u001b[0m 159ms/step - accuracy: 0.5355 - loss: 0.6979\n",
            "Epoch 8/30\n",
            "\u001b[1m8/8\u001b[0m \u001b[32m━━━━━━━━━━━━━━━━━━━━\u001b[0m\u001b[37m\u001b[0m \u001b[1m1s\u001b[0m 160ms/step - accuracy: 0.5451 - loss: 0.6900\n",
            "Epoch 9/30\n",
            "\u001b[1m8/8\u001b[0m \u001b[32m━━━━━━━━━━━━━━━━━━━━\u001b[0m\u001b[37m\u001b[0m \u001b[1m1s\u001b[0m 162ms/step - accuracy: 0.5529 - loss: 0.6922\n",
            "Epoch 10/30\n",
            "\u001b[1m8/8\u001b[0m \u001b[32m━━━━━━━━━━━━━━━━━━━━\u001b[0m\u001b[37m\u001b[0m \u001b[1m1s\u001b[0m 164ms/step - accuracy: 0.5374 - loss: 0.6901\n",
            "Epoch 11/30\n",
            "\u001b[1m8/8\u001b[0m \u001b[32m━━━━━━━━━━━━━━━━━━━━\u001b[0m\u001b[37m\u001b[0m \u001b[1m2s\u001b[0m 161ms/step - accuracy: 0.5053 - loss: 0.6933\n",
            "Epoch 12/30\n",
            "\u001b[1m8/8\u001b[0m \u001b[32m━━━━━━━━━━━━━━━━━━━━\u001b[0m\u001b[37m\u001b[0m \u001b[1m1s\u001b[0m 161ms/step - accuracy: 0.5528 - loss: 0.6880\n",
            "Epoch 13/30\n",
            "\u001b[1m8/8\u001b[0m \u001b[32m━━━━━━━━━━━━━━━━━━━━\u001b[0m\u001b[37m\u001b[0m \u001b[1m3s\u001b[0m 160ms/step - accuracy: 0.5658 - loss: 0.6841\n",
            "Epoch 14/30\n",
            "\u001b[1m8/8\u001b[0m \u001b[32m━━━━━━━━━━━━━━━━━━━━\u001b[0m\u001b[37m\u001b[0m \u001b[1m3s\u001b[0m 163ms/step - accuracy: 0.5173 - loss: 0.6874\n",
            "Epoch 15/30\n",
            "\u001b[1m8/8\u001b[0m \u001b[32m━━━━━━━━━━━━━━━━━━━━\u001b[0m\u001b[37m\u001b[0m \u001b[1m1s\u001b[0m 160ms/step - accuracy: 0.5273 - loss: 0.6918\n",
            "Epoch 16/30\n",
            "\u001b[1m8/8\u001b[0m \u001b[32m━━━━━━━━━━━━━━━━━━━━\u001b[0m\u001b[37m\u001b[0m \u001b[1m1s\u001b[0m 164ms/step - accuracy: 0.5693 - loss: 0.6776\n",
            "Epoch 17/30\n",
            "\u001b[1m8/8\u001b[0m \u001b[32m━━━━━━━━━━━━━━━━━━━━\u001b[0m\u001b[37m\u001b[0m \u001b[1m1s\u001b[0m 167ms/step - accuracy: 0.6083 - loss: 0.6813\n",
            "Epoch 18/30\n",
            "\u001b[1m8/8\u001b[0m \u001b[32m━━━━━━━━━━━━━━━━━━━━\u001b[0m\u001b[37m\u001b[0m \u001b[1m1s\u001b[0m 168ms/step - accuracy: 0.5526 - loss: 0.6870\n",
            "Epoch 19/30\n",
            "\u001b[1m8/8\u001b[0m \u001b[32m━━━━━━━━━━━━━━━━━━━━\u001b[0m\u001b[37m\u001b[0m \u001b[1m2s\u001b[0m 160ms/step - accuracy: 0.5729 - loss: 0.6813\n",
            "Epoch 20/30\n",
            "\u001b[1m8/8\u001b[0m \u001b[32m━━━━━━━━━━━━━━━━━━━━\u001b[0m\u001b[37m\u001b[0m \u001b[1m3s\u001b[0m 161ms/step - accuracy: 0.6069 - loss: 0.6736\n",
            "Epoch 21/30\n",
            "\u001b[1m8/8\u001b[0m \u001b[32m━━━━━━━━━━━━━━━━━━━━\u001b[0m\u001b[37m\u001b[0m \u001b[1m1s\u001b[0m 164ms/step - accuracy: 0.5733 - loss: 0.6864\n",
            "Epoch 22/30\n",
            "\u001b[1m8/8\u001b[0m \u001b[32m━━━━━━━━━━━━━━━━━━━━\u001b[0m\u001b[37m\u001b[0m \u001b[1m1s\u001b[0m 163ms/step - accuracy: 0.5316 - loss: 0.6894\n",
            "Epoch 23/30\n",
            "\u001b[1m8/8\u001b[0m \u001b[32m━━━━━━━━━━━━━━━━━━━━\u001b[0m\u001b[37m\u001b[0m \u001b[1m1s\u001b[0m 163ms/step - accuracy: 0.5930 - loss: 0.6772\n",
            "Epoch 24/30\n",
            "\u001b[1m8/8\u001b[0m \u001b[32m━━━━━━━━━━━━━━━━━━━━\u001b[0m\u001b[37m\u001b[0m \u001b[1m3s\u001b[0m 168ms/step - accuracy: 0.5647 - loss: 0.6867\n",
            "Epoch 25/30\n",
            "\u001b[1m8/8\u001b[0m \u001b[32m━━━━━━━━━━━━━━━━━━━━\u001b[0m\u001b[37m\u001b[0m \u001b[1m1s\u001b[0m 168ms/step - accuracy: 0.5257 - loss: 0.6910\n",
            "Epoch 26/30\n",
            "\u001b[1m8/8\u001b[0m \u001b[32m━━━━━━━━━━━━━━━━━━━━\u001b[0m\u001b[37m\u001b[0m \u001b[1m1s\u001b[0m 169ms/step - accuracy: 0.5808 - loss: 0.6756\n",
            "Epoch 27/30\n",
            "\u001b[1m8/8\u001b[0m \u001b[32m━━━━━━━━━━━━━━━━━━━━\u001b[0m\u001b[37m\u001b[0m \u001b[1m1s\u001b[0m 165ms/step - accuracy: 0.5680 - loss: 0.6878\n",
            "Epoch 28/30\n",
            "\u001b[1m8/8\u001b[0m \u001b[32m━━━━━━━━━━━━━━━━━━━━\u001b[0m\u001b[37m\u001b[0m \u001b[1m1s\u001b[0m 164ms/step - accuracy: 0.5289 - loss: 0.6948\n",
            "Epoch 29/30\n",
            "\u001b[1m8/8\u001b[0m \u001b[32m━━━━━━━━━━━━━━━━━━━━\u001b[0m\u001b[37m\u001b[0m \u001b[1m1s\u001b[0m 165ms/step - accuracy: 0.5439 - loss: 0.6876\n",
            "Epoch 30/30\n",
            "\u001b[1m8/8\u001b[0m \u001b[32m━━━━━━━━━━━━━━━━━━━━\u001b[0m\u001b[37m\u001b[0m \u001b[1m1s\u001b[0m 164ms/step - accuracy: 0.5593 - loss: 0.6803\n"
          ]
        }
      ]
    },
    {
      "cell_type": "code",
      "source": [
        "test_pairs, test_labels = create_limited_pairs(test_gen, PAIR_SAMPLE_SIZE // 2)\n",
        "test_pairs_a, test_pairs_b = test_pairs[:, 0], test_pairs[:, 1]\n",
        "test_loss, test_acc = model.evaluate([test_pairs_a, test_pairs_b], test_labels)\n",
        "print(f\"Test Accuracy: {test_acc * 100:.2f}%\")\n"
      ],
      "metadata": {
        "id": "oX4XG30shw9F",
        "colab": {
          "base_uri": "https://localhost:8080/"
        },
        "outputId": "319d855d-fdce-44e9-be4f-24ac7e64145d"
      },
      "execution_count": null,
      "outputs": [
        {
          "output_type": "stream",
          "name": "stdout",
          "text": [
            "\u001b[1m4/4\u001b[0m \u001b[32m━━━━━━━━━━━━━━━━━━━━\u001b[0m\u001b[37m\u001b[0m \u001b[1m5s\u001b[0m 688ms/step - accuracy: 0.5291 - loss: 0.6916\n",
            "Test Accuracy: 54.40%\n"
          ]
        }
      ]
    },
    {
      "cell_type": "code",
      "source": [
        "#after basic exp, use k-fold"
      ],
      "metadata": {
        "id": "stvewmzLpK2B"
      },
      "execution_count": null,
      "outputs": []
    },
    {
      "cell_type": "code",
      "source": [
        "path=\"/content/drive/MyDrive/Research/BreakHis/siamese_model.h5\"\n",
        "model.save(path)"
      ],
      "metadata": {
        "colab": {
          "base_uri": "https://localhost:8080/"
        },
        "id": "T4sVdsKUMVSZ",
        "outputId": "b21a7fc8-888a-4349-991a-05b2ba75468d"
      },
      "execution_count": null,
      "outputs": [
        {
          "output_type": "stream",
          "name": "stderr",
          "text": [
            "WARNING:absl:You are saving your model as an HDF5 file via `model.save()` or `keras.saving.save_model(model)`. This file format is considered legacy. We recommend using instead the native Keras format, e.g. `model.save('my_model.keras')` or `keras.saving.save_model(model, 'my_model.keras')`. \n"
          ]
        }
      ]
    },
    {
      "cell_type": "code",
      "source": [
        "path=\"/content/drive/MyDrive/Research/BreakHis/siamese_model.h5\"\n"
      ],
      "metadata": {
        "id": "nqB0cOGfOaRf"
      },
      "execution_count": null,
      "outputs": []
    }
  ]
}